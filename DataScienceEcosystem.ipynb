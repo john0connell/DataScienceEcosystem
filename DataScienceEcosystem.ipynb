{
 "cells": [
  {
   "cell_type": "markdown",
   "id": "030caa7f-a073-4db7-8c33-af491a38c766",
   "metadata": {},
   "source": [
    "# Data Science Tools and Ecosystem"
   ]
  },
  {
   "cell_type": "markdown",
   "id": "92c4d83f-4783-48f1-8d4f-3d6d00820cae",
   "metadata": {},
   "source": [
    "### In this notebook, Data Science Tools and Ecosystem are summarized."
   ]
  },
  {
   "cell_type": "markdown",
   "id": "63fc31ef-830b-4fcc-af6f-e0fbbc41293d",
   "metadata": {},
   "source": [
    "#### **Objectives:**"
   ]
  },
  {
   "cell_type": "markdown",
   "id": "7f89b642-609a-4c7c-905a-1e42956175a2",
   "metadata": {},
   "source": [
    "- List popular languages for Data Science\n",
    "- List popular libraries for Data Science\n",
    "- Create a table of popular tools for Data Science\n",
    "- Give examples or arithmetic expressions in Python\n"
   ]
  },
  {
   "cell_type": "markdown",
   "id": "420d3c73-8462-4c28-9ff8-b559013a05aa",
   "metadata": {
    "tags": []
   },
   "source": [
    "#### **Some of the popular languages that Data Scientists use are:**"
   ]
  },
  {
   "cell_type": "markdown",
   "id": "97feead6-00ea-44e5-b999-c34d5d9327e8",
   "metadata": {
    "tags": []
   },
   "source": [
    "1. Python: Widely used due to its simplicity, versatility, and extensive libraries for data manipulation (Pandas), numerical computing (NumPy), data visualization (Matplotlib, Seaborn), and machine learning (Scikit-learn, TensorFlow, PyTorch).\n",
    "\n",
    "2. R: Known for its powerful statistical analysis and visualization capabilities, R is favored by statisticians and researchers. It offers libraries like ggplot2 for visualization, dplyr and tidyr for data manipulation, and various statistical packages.\n",
    "\n",
    "3. SQL (Structured Query Language): Although not a general-purpose programming language, SQL is essential for working with relational databases. Data Scientists often use SQL to extract, manipulate, and manage data stored in databases.\n",
    "\n",
    "4. Julia: An emerging language known for its high-performance computing and statistical analysis capabilities. Julia is gaining popularity among Data Scientists for its speed and ease of use.\n",
    "\n",
    "5. Scala: Often used in conjunction with Apache Spark, Scala is chosen for distributed computing and processing large-scale data.\n",
    "\n",
    "6. MATLAB: Frequently used in academic research and engineering for numerical computing, algorithm development, and data analysis.\n",
    "\n",
    "7. Java: While not as common for data analysis tasks directly, Java is employed in big data ecosystems like Hadoop and other enterprise-level applications."
   ]
  },
  {
   "cell_type": "markdown",
   "id": "619f4b21-9c00-47a0-92fb-759fd7c19ebe",
   "metadata": {},
   "source": [
    "#### **Some of the commonly used libraries used by Data Scientists include:**"
   ]
  },
  {
   "cell_type": "markdown",
   "id": "bbc52db8-1819-425b-8d34-adbc5af4f4b7",
   "metadata": {},
   "source": [
    "**Python:**\n",
    "\n",
    "1. Pandas: For data manipulation and analysis.\n",
    "2. NumPy: For numerical computing and working with arrays.\n",
    "3. Matplotlib: For creating visualizations like charts, plots, and graphs.\n",
    "4. Seaborn: Built on top of Matplotlib, it offers enhanced visualizations and statistical graphics.\n",
    "5. Scikit-learn: For machine learning algorithms, model building, and evaluation.\n",
    "6. TensorFlow / PyTorch: Deep learning libraries used for building neural networks and conducting deep learning tasks.\n",
    "7. NLTK (Natural Language Toolkit): For working with human language data, like text and speech.\n",
    "\n",
    "**R:**\n",
    "\n",
    "1. ggplot2: For creating a wide variety of statistical graphics and visualizations.\n",
    "2. dplyr: For data manipulation tasks and data wrangling.\n",
    "3. tidyr: For data tidying and reshaping.\n",
    "4. caret: For machine learning tasks and model building."
   ]
  },
  {
   "cell_type": "markdown",
   "id": "f4ccce56-6030-4994-9086-5f5fdae825ac",
   "metadata": {
    "tags": []
   },
   "source": [
    "|Data Science Tools | \n",
    "|-------------| \n",
    "|Jupyter Notebook | \n",
    "|JupyterLab |\n",
    "|RStudio |\n",
    "|Spyder |"
   ]
  },
  {
   "cell_type": "markdown",
   "id": "125ffb7d-9a31-4ce1-807e-52aae3474518",
   "metadata": {
    "tags": []
   },
   "source": [
    "### Below are a few examples of evaluating arithmetic expressions in Python"
   ]
  },
  {
   "cell_type": "code",
   "execution_count": 6,
   "id": "41cf601e-e2d4-414f-a74a-e2bf26a4decb",
   "metadata": {
    "tags": []
   },
   "outputs": [
    {
     "name": "stdout",
     "output_type": "stream",
     "text": [
      "3.3333333333333335\n"
     ]
    }
   ],
   "source": [
    "# This will convert 200 minutes to hours by diving by 60\n",
    "\n",
    "minutes = 200\n",
    "hours = minutes / 60\n",
    "print(hours)"
   ]
  },
  {
   "cell_type": "code",
   "execution_count": 3,
   "id": "16195c8d-3645-4db2-9bdd-464b8664bb93",
   "metadata": {
    "tags": []
   },
   "outputs": [
    {
     "data": {
      "text/plain": [
       "17"
      ]
     },
     "execution_count": 3,
     "metadata": {},
     "output_type": "execute_result"
    }
   ],
   "source": [
    "# This a simple arithmetic expression to mutiply then add integers\n",
    "\n",
    "(3*4)+5"
   ]
  },
  {
   "cell_type": "markdown",
   "id": "9321beb1-c192-4971-bb74-b212eaee12b2",
   "metadata": {},
   "source": [
    "## Author"
   ]
  },
  {
   "cell_type": "markdown",
   "id": "60df0edd-c3fe-4a59-87a0-ba71c6a7eae9",
   "metadata": {
    "tags": []
   },
   "source": [
    "John O'Connell @john0connell"
   ]
  },
  {
   "cell_type": "code",
   "execution_count": null,
   "id": "a7130fae-22c9-4862-8e34-d04a4348fc16",
   "metadata": {},
   "outputs": [],
   "source": []
  }
 ],
 "metadata": {
  "kernelspec": {
   "display_name": "Python 3 (ipykernel)",
   "language": "python",
   "name": "python3"
  },
  "language_info": {
   "codemirror_mode": {
    "name": "ipython",
    "version": 3
   },
   "file_extension": ".py",
   "mimetype": "text/x-python",
   "name": "python",
   "nbconvert_exporter": "python",
   "pygments_lexer": "ipython3",
   "version": "3.11.5"
  }
 },
 "nbformat": 4,
 "nbformat_minor": 5
}
